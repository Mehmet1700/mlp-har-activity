{
 "cells": [
  {
   "cell_type": "markdown",
   "id": "9046edf4",
   "metadata": {},
   "source": [
    "# Data Preparation\n",
    "In diesem Notebook bereiten wir die Daten für das Training eines LSTM-Modells vor.\n",
    "\n",
    "**Schritte:**\n",
    "- Fehlende Werte\n",
    "- Ausreißer\n",
    "- Feature Engineering\n",
    "- Skalierung\n",
    "- Encoding\n",
    "- Aufteilung in Trainings-/Validierungs-/Testdaten\n",
    "- Speicherung als NumPy-Dateien"
   ]
  },
  {
   "cell_type": "code",
   "execution_count": null,
   "id": "75b64fd9",
   "metadata": {},
   "outputs": [],
   "source": [
    "# Bibliotheken\n",
    "import pandas as pd\n",
    "import numpy as np\n",
    "import matplotlib.pyplot as plt\n",
    "import seaborn as sns\n",
    "from sklearn.preprocessing import StandardScaler, LabelEncoder\n",
    "from sklearn.model_selection import train_test_split\n",
    "import os"
   ]
  },
  {
   "cell_type": "code",
   "execution_count": null,
   "id": "1e6a486e",
   "metadata": {},
   "outputs": [],
   "source": [
    "# Daten laden (anpassen falls nötig)\n",
    "data_path = '../data/'\n",
    "\n",
    "# CSVs einlesen\n",
    "train_df = pd.read_csv(data_path + \"train.csv\")\n",
    "test_df = pd.read_csv(data_path + \"test.csv\")\n",
    "\n",
    "\n",
    "# Zielvariable definieren\n",
    "target_col = 'Activity'"
   ]
  },
  {
   "cell_type": "code",
   "execution_count": null,
   "id": "eb74b8f8",
   "metadata": {},
   "outputs": [
    {
     "name": "stdout",
     "output_type": "stream",
     "text": [
      "Activity             0\n",
      "tBodyAcc-mean()-X    0\n",
      "tBodyAcc-mean()-Y    0\n",
      "tBodyAcc-mean()-Z    0\n",
      "tBodyAcc-std()-X     0\n",
      "dtype: int64\n",
      "Activity             0\n",
      "tBodyAcc-mean()-X    0\n",
      "tBodyAcc-mean()-Y    0\n",
      "tBodyAcc-mean()-Z    0\n",
      "tBodyAcc-std()-X     0\n",
      "dtype: int64\n"
     ]
    }
   ],
   "source": [
    "# Fehlende Werte analysieren\n",
    "print(train_df.isnull().sum().sort_values(ascending=False).head())\n",
    "\n",
    "print(test_df.isnull().sum().sort_values(ascending=False).head())"
   ]
  },
  {
   "cell_type": "code",
   "execution_count": null,
   "id": "90e2af2c",
   "metadata": {},
   "outputs": [],
   "source": [
    "# Fehlende Werte entfernen (falls vorhanden)\n",
    "df = test_df.dropna()\n",
    "df = train_df.dropna()\n"
   ]
  }
 ],
 "metadata": {
  "kernelspec": {
   "display_name": "mlp-har-activity-Gncd2LNw",
   "language": "python",
   "name": "python3"
  },
  "language_info": {
   "codemirror_mode": {
    "name": "ipython",
    "version": 3
   },
   "file_extension": ".py",
   "mimetype": "text/x-python",
   "name": "python",
   "nbconvert_exporter": "python",
   "pygments_lexer": "ipython3",
   "version": "3.9.18"
  }
 },
 "nbformat": 4,
 "nbformat_minor": 5
}
