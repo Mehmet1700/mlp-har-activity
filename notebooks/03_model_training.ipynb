{
 "cells": [
  {
   "cell_type": "markdown",
   "id": "c2cdc35f",
   "metadata": {},
   "source": [
    "# LSTM Modellierung – Human Activity Recognition\n",
    "In diesem Notebook trainieren wir ein LSTM-Modell zur Klassifikation von Aktivitäten anhand von Smartphone-Sensordaten.\n",
    "Schritte:\n",
    "- Laden der vorbereiteten Daten\n",
    "- Aufbau des LSTM-Modells\n",
    "- Training\n",
    "- Evaluation"
   ]
  },
  {
   "cell_type": "code",
   "execution_count": 4,
   "id": "82eb6fe6",
   "metadata": {},
   "outputs": [],
   "source": [
    "# Bibliotheken\n",
    "import numpy as np\n",
    "import torch\n",
    "import torch.nn as nn\n",
    "from torch.utils.data import TensorDataset, DataLoader\n",
    "import matplotlib.pyplot as plt\n",
    "from sklearn.metrics import classification_report, confusion_matrix\n",
    "import seaborn as sns\n",
    "import pandas as pd\n",
    "from sklearn.preprocessing import LabelEncoder, StandardScaler\n"
   ]
  },
  {
   "cell_type": "code",
   "execution_count": null,
   "id": "7bc7aed5",
   "metadata": {},
   "outputs": [],
   "source": [
    "# Daten laden (anpassen falls nötig)\n",
    "data_path = '../data/'\n",
    "\n",
    "# CSVs einlesen\n",
    "train_df = pd.read_csv(data_path + \"train.csv\")\n",
    "test_df = pd.read_csv(data_path + \"test.csv\")"
   ]
  },
  {
   "cell_type": "code",
   "execution_count": 5,
   "id": "a6287c85",
   "metadata": {},
   "outputs": [],
   "source": [
    "# Zielvariable definieren und encoden\n",
    "target_col = 'Activity'\n",
    "le = LabelEncoder()\n",
    "train_df[target_col] = le.fit_transform(train_df[target_col])\n",
    "test_df[target_col] = le.transform(test_df[target_col])  # falls gleiche Labels"
   ]
  },
  {
   "cell_type": "code",
   "execution_count": 6,
   "id": "50f22ae3",
   "metadata": {},
   "outputs": [],
   "source": [
    "# Features und Ziel trennen\n",
    "X_train = train_df.drop(columns=[target_col])\n",
    "y_train = train_df[target_col].values\n",
    "\n",
    "X_test = test_df.drop(columns=[target_col])\n",
    "y_test = test_df[target_col].values"
   ]
  },
  {
   "cell_type": "code",
   "execution_count": 7,
   "id": "ef939576",
   "metadata": {},
   "outputs": [],
   "source": [
    "# Skalierung\n",
    "scaler = StandardScaler()\n",
    "X_train_scaled = scaler.fit_transform(X_train)\n",
    "X_test_scaled = scaler.transform(X_test)"
   ]
  },
  {
   "cell_type": "code",
   "execution_count": 9,
   "id": "3170f19f",
   "metadata": {},
   "outputs": [],
   "source": [
    "# Reshape für LSTM (Samples, TimeSteps=1, Features)\n",
    "X_train_scaled = X_train_scaled.reshape((X_train_scaled.shape[0], 1, X_train_scaled.shape[1]))\n",
    "X_test_scaled = X_test_scaled.reshape((X_test_scaled.shape[0], 1, X_test_scaled.shape[1]))"
   ]
  },
  {
   "cell_type": "code",
   "execution_count": 10,
   "id": "787477d8",
   "metadata": {},
   "outputs": [],
   "source": [
    "# Umwandlung in Tensoren\n",
    "X_train_tensor = torch.tensor(X_train_scaled, dtype=torch.float32)\n",
    "y_train_tensor = torch.tensor(y_train, dtype=torch.long)\n",
    "\n",
    "X_test_tensor = torch.tensor(X_test_scaled, dtype=torch.float32)\n",
    "y_test_tensor = torch.tensor(y_test, dtype=torch.long)"
   ]
  },
  {
   "cell_type": "code",
   "execution_count": 11,
   "id": "eb77259c",
   "metadata": {},
   "outputs": [],
   "source": [
    "# Feature/Ziel-Trennung\n",
    "X_train = train_df.drop(columns=[target_col])\n",
    "y_train = train_df[target_col].values\n",
    "\n",
    "X_test = test_df.drop(columns=[target_col])\n",
    "y_test = test_df[target_col].values\n",
    "\n",
    "# Skalierung\n",
    "scaler = StandardScaler()\n",
    "X_train_scaled = scaler.fit_transform(X_train)\n",
    "X_test_scaled = scaler.transform(X_test)\n",
    "\n",
    "# LSTM-Format: (Samples, TimeSteps=1, Features)\n",
    "X_train_scaled = X_train_scaled.reshape((X_train_scaled.shape[0], 1, X_train_scaled.shape[1]))\n",
    "X_test_scaled = X_test_scaled.reshape((X_test_scaled.shape[0], 1, X_test_scaled.shape[1]))\n",
    "\n",
    "# Tensoren\n",
    "X_train_tensor = torch.tensor(X_train_scaled, dtype=torch.float32)\n",
    "y_train_tensor = torch.tensor(y_train, dtype=torch.long)\n",
    "X_test_tensor = torch.tensor(X_test_scaled, dtype=torch.float32)\n",
    "y_test_tensor = torch.tensor(y_test, dtype=torch.long)\n"
   ]
  },
  {
   "cell_type": "code",
   "execution_count": 12,
   "id": "010bf0e8",
   "metadata": {},
   "outputs": [],
   "source": [
    "# DataLoader\n",
    "batch_size = 64\n",
    "train_loader = DataLoader(TensorDataset(X_train_tensor, y_train_tensor), batch_size=batch_size, shuffle=True)\n",
    "val_loader = DataLoader(TensorDataset(X_test_tensor, y_test_tensor), batch_size=batch_size)\n",
    "\n",
    "# Modellklasse\n",
    "class LSTMModel(nn.Module):\n",
    "    def __init__(self, input_size, hidden_size, num_classes):\n",
    "        super().__init__()\n",
    "        self.lstm = nn.LSTM(input_size=input_size, hidden_size=hidden_size, batch_first=True)\n",
    "        self.fc = nn.Linear(hidden_size, num_classes)\n",
    "\n",
    "    def forward(self, x):\n",
    "        out, _ = self.lstm(x)\n",
    "        return self.fc(out[:, -1, :])\n",
    "\n",
    "# Initialisierung\n",
    "device = torch.device(\"cuda\" if torch.cuda.is_available() else \"cpu\")\n",
    "model = LSTMModel(input_size=X_train.shape[1], hidden_size=64, num_classes=len(np.unique(y_train)))\n",
    "model.to(device)\n",
    "\n",
    "optimizer = torch.optim.Adam(model.parameters(), lr=0.001)\n",
    "criterion = nn.CrossEntropyLoss()\n"
   ]
  },
  {
   "cell_type": "code",
   "execution_count": null,
   "id": "99ff44e1",
   "metadata": {},
   "outputs": [
    {
     "name": "stdout",
     "output_type": "stream",
     "text": [
      "Epoch 1: Train Loss=0.0309, Val Loss=0.1420\n",
      "Epoch 2: Train Loss=0.0272, Val Loss=0.1551\n",
      "Epoch 3: Train Loss=0.0235, Val Loss=0.1600\n",
      "Epoch 4: Train Loss=0.0212, Val Loss=0.1441\n",
      "Epoch 5: Train Loss=0.0198, Val Loss=0.1439\n",
      "Epoch 6: Train Loss=0.0178, Val Loss=0.1522\n",
      "Epoch 7: Train Loss=0.0156, Val Loss=0.1502\n",
      "Epoch 8: Train Loss=0.0132, Val Loss=0.1575\n",
      "Epoch 9: Train Loss=0.0117, Val Loss=0.1554\n",
      "Epoch 10: Train Loss=0.0099, Val Loss=0.1458\n",
      "Epoch 11: Train Loss=0.0096, Val Loss=0.1586\n",
      "Epoch 12: Train Loss=0.0077, Val Loss=0.1740\n",
      "Epoch 13: Train Loss=0.0069, Val Loss=0.1694\n",
      "Epoch 14: Train Loss=0.0065, Val Loss=0.1537\n",
      "Epoch 15: Train Loss=0.0049, Val Loss=0.1635\n",
      "Epoch 16: Train Loss=0.0046, Val Loss=0.1865\n",
      "Epoch 17: Train Loss=0.0044, Val Loss=0.1693\n",
      "Epoch 18: Train Loss=0.0039, Val Loss=0.1756\n",
      "Epoch 19: Train Loss=0.0036, Val Loss=0.1774\n",
      "Epoch 20: Train Loss=0.0029, Val Loss=0.1647\n",
      "Epoch 21: Train Loss=0.0026, Val Loss=0.1724\n",
      "Epoch 22: Train Loss=0.0022, Val Loss=0.1585\n",
      "Epoch 23: Train Loss=0.0023, Val Loss=0.1681\n",
      "Epoch 24: Train Loss=0.0018, Val Loss=0.1673\n",
      "Epoch 25: Train Loss=0.0016, Val Loss=0.1735\n",
      "Epoch 26: Train Loss=0.0015, Val Loss=0.1775\n",
      "Epoch 27: Train Loss=0.0014, Val Loss=0.1700\n",
      "Epoch 28: Train Loss=0.0011, Val Loss=0.1847\n",
      "Epoch 29: Train Loss=0.0010, Val Loss=0.1706\n",
      "Epoch 30: Train Loss=0.0010, Val Loss=0.1764\n",
      "Epoch 31: Train Loss=0.0008, Val Loss=0.1740\n",
      "Epoch 32: Train Loss=0.0007, Val Loss=0.1831\n",
      "Epoch 33: Train Loss=0.0007, Val Loss=0.1767\n",
      "Epoch 34: Train Loss=0.0006, Val Loss=0.1772\n",
      "Epoch 35: Train Loss=0.0006, Val Loss=0.1829\n",
      "Epoch 36: Train Loss=0.0005, Val Loss=0.1926\n",
      "Epoch 37: Train Loss=0.0005, Val Loss=0.1829\n",
      "Epoch 38: Train Loss=0.0005, Val Loss=0.1839\n",
      "Epoch 39: Train Loss=0.0004, Val Loss=0.1878\n",
      "Epoch 40: Train Loss=0.0004, Val Loss=0.1794\n",
      "Epoch 41: Train Loss=0.0004, Val Loss=0.1862\n",
      "Epoch 42: Train Loss=0.0004, Val Loss=0.1920\n",
      "Epoch 43: Train Loss=0.0003, Val Loss=0.1953\n",
      "Epoch 44: Train Loss=0.0003, Val Loss=0.1908\n",
      "Epoch 45: Train Loss=0.0003, Val Loss=0.2001\n",
      "Epoch 46: Train Loss=0.0002, Val Loss=0.2020\n",
      "Epoch 47: Train Loss=0.0002, Val Loss=0.1904\n",
      "Epoch 48: Train Loss=0.0002, Val Loss=0.2024\n",
      "Epoch 49: Train Loss=0.0002, Val Loss=0.2034\n",
      "Epoch 50: Train Loss=0.0002, Val Loss=0.1986\n",
      "Epoch 51: Train Loss=0.0002, Val Loss=0.2030\n",
      "Epoch 52: Train Loss=0.0001, Val Loss=0.1993\n",
      "Epoch 53: Train Loss=0.0001, Val Loss=0.2032\n",
      "Epoch 54: Train Loss=0.0001, Val Loss=0.2030\n",
      "Epoch 55: Train Loss=0.0001, Val Loss=0.2019\n",
      "Epoch 56: Train Loss=0.0001, Val Loss=0.2038\n",
      "Epoch 57: Train Loss=0.0001, Val Loss=0.2032\n",
      "Epoch 58: Train Loss=0.0001, Val Loss=0.2044\n",
      "Epoch 59: Train Loss=0.0001, Val Loss=0.2063\n",
      "Epoch 60: Train Loss=0.0001, Val Loss=0.2098\n",
      "Epoch 61: Train Loss=0.0001, Val Loss=0.2157\n",
      "Epoch 62: Train Loss=0.0001, Val Loss=0.2164\n",
      "Epoch 63: Train Loss=0.0001, Val Loss=0.2061\n",
      "Epoch 64: Train Loss=0.0001, Val Loss=0.2081\n",
      "Epoch 65: Train Loss=0.0001, Val Loss=0.2119\n",
      "Epoch 66: Train Loss=0.0001, Val Loss=0.2125\n",
      "Epoch 67: Train Loss=0.0001, Val Loss=0.2159\n",
      "Epoch 68: Train Loss=0.0000, Val Loss=0.2121\n",
      "Epoch 69: Train Loss=0.0000, Val Loss=0.2212\n",
      "Epoch 70: Train Loss=0.0000, Val Loss=0.2242\n",
      "Epoch 71: Train Loss=0.0000, Val Loss=0.2181\n",
      "Epoch 72: Train Loss=0.0000, Val Loss=0.2153\n",
      "Epoch 73: Train Loss=0.0000, Val Loss=0.2237\n",
      "Epoch 74: Train Loss=0.0000, Val Loss=0.2216\n",
      "Epoch 75: Train Loss=0.0000, Val Loss=0.2151\n",
      "Epoch 76: Train Loss=0.0000, Val Loss=0.2234\n",
      "Epoch 77: Train Loss=0.0000, Val Loss=0.2277\n",
      "Epoch 78: Train Loss=0.0000, Val Loss=0.2194\n",
      "Epoch 79: Train Loss=0.0000, Val Loss=0.2264\n",
      "Epoch 80: Train Loss=0.0000, Val Loss=0.2234\n",
      "Epoch 81: Train Loss=0.0000, Val Loss=0.2260\n",
      "Epoch 82: Train Loss=0.0000, Val Loss=0.2266\n",
      "Epoch 83: Train Loss=0.0000, Val Loss=0.2309\n",
      "Epoch 84: Train Loss=0.0000, Val Loss=0.2328\n",
      "Epoch 85: Train Loss=0.0000, Val Loss=0.2287\n",
      "Epoch 86: Train Loss=0.0000, Val Loss=0.2373\n",
      "Epoch 87: Train Loss=0.0000, Val Loss=0.2301\n",
      "Epoch 88: Train Loss=0.0000, Val Loss=0.2362\n",
      "Epoch 89: Train Loss=0.0000, Val Loss=0.2354\n",
      "Epoch 90: Train Loss=0.0000, Val Loss=0.2352\n",
      "Epoch 91: Train Loss=0.0000, Val Loss=0.2339\n",
      "Epoch 92: Train Loss=0.0000, Val Loss=0.2376\n",
      "Epoch 93: Train Loss=0.0000, Val Loss=0.2371\n",
      "Epoch 94: Train Loss=0.0000, Val Loss=0.2412\n",
      "Epoch 95: Train Loss=0.0000, Val Loss=0.2408\n",
      "Epoch 96: Train Loss=0.0000, Val Loss=0.2430\n",
      "Epoch 97: Train Loss=0.0000, Val Loss=0.2408\n",
      "Epoch 98: Train Loss=0.0000, Val Loss=0.2456\n",
      "Epoch 99: Train Loss=0.0000, Val Loss=0.2421\n",
      "Epoch 100: Train Loss=0.0000, Val Loss=0.2489\n"
     ]
    }
   ],
   "source": [
    "# Training mit Loss-Tracking\n",
    "train_losses, val_losses = [], []\n",
    "epochs = 100\n",
    "\n",
    "for epoch in range(epochs):\n",
    "    model.train()\n",
    "    epoch_loss = 0\n",
    "    for xb, yb in train_loader:\n",
    "        xb, yb = xb.to(device), yb.to(device)\n",
    "        optimizer.zero_grad()\n",
    "        preds = model(xb)\n",
    "        loss = criterion(preds, yb)\n",
    "        loss.backward()\n",
    "        optimizer.step()\n",
    "        epoch_loss += loss.item()\n",
    "    train_losses.append(epoch_loss / len(train_loader))\n",
    "\n",
    "    # test\n",
    "    model.eval()\n",
    "    val_loss = 0\n",
    "    with torch.no_grad():\n",
    "        for xb, yb in val_loader:\n",
    "            xb, yb = xb.to(device), yb.to(device)\n",
    "            preds = model(xb)\n",
    "            val_loss += criterion(preds, yb).item()\n",
    "    val_losses.append(val_loss / len(val_loader))\n",
    "\n",
    "    print(f\"Epoch {epoch+1}: Train Loss={train_losses[-1]:.4f}, Val Loss={val_losses[-1]:.4f}\")\n"
   ]
  },
  {
   "cell_type": "code",
   "execution_count": 17,
   "id": "90f4328c",
   "metadata": {},
   "outputs": [
    {
     "data": {
      "image/png": "[encoded data removed]",
      "text/plain": [
       "<Figure size 800x500 with 1 Axes>"
      ]
     },
     "metadata": {},
     "output_type": "display_data"
    }
   ],
   "source": [
    "# 📉 Trainings- und Validierungs-Loss visualisieren\n",
    "plt.figure(figsize=(8, 5))\n",
    "plt.plot(train_losses, label=\"Train Loss\")\n",
    "plt.plot(val_losses, label=\"Validation Loss\")\n",
    "plt.xlabel(\"Epoch\")\n",
    "plt.ylabel(\"Loss\")\n",
    "plt.title(\"Trainingsverlauf\")\n",
    "plt.legend()\n",
    "plt.grid(True)\n",
    "plt.show()\n"
   ]
  }
 ],
 "metadata": {
  "kernelspec": {
   "display_name": "mlp-har-activity-Gncd2LNw",
   "language": "python",
   "name": "python3"
  },
  "language_info": {
   "codemirror_mode": {
    "name": "ipython",
    "version": 3
   },
   "file_extension": ".py",
   "mimetype": "text/x-python",
   "name": "python",
   "nbconvert_exporter": "python",
   "pygments_lexer": "ipython3",
   "version": "3.9.18"
  }
 },
 "nbformat": 4,
 "nbformat_minor": 5
}
